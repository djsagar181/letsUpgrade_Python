{
 "cells": [
  {
   "cell_type": "code",
   "execution_count": 2,
   "metadata": {},
   "outputs": [
    {
     "name": "stdout",
     "output_type": "stream",
     "text": [
      "Overwriting test.txt\n"
     ]
    }
   ],
   "source": [
    "%%writefile test.txt\n",
    "\n",
    "Hi this is Sagar\n",
    "Letupgrade is a good platform."
   ]
  },
  {
   "cell_type": "code",
   "execution_count": 3,
   "metadata": {},
   "outputs": [
    {
     "name": "stdout",
     "output_type": "stream",
     "text": [
      "\n",
      "Error has been occured\n",
      "\n",
      "Error message is : not writable\n"
     ]
    }
   ],
   "source": [
    "\n",
    "# opening file in read mode and tring to write \n",
    "\n",
    "try:\n",
    "    \n",
    "    file = open(\"test.txt\",\"r\")\n",
    "    \n",
    "    file.write(\"\\nThey provide us a good programmign knowledge.\")\n",
    "    \n",
    "    print(\"\\nWrite operation has done successfully in read only mode.\")\n",
    "    \n",
    "except Exception as e:\n",
    "    \n",
    "    print(\"\\nError has been occured\")\n",
    "    \n",
    "    print(\"\\nError message is :\",e)"
   ]
  }
 ],
 "metadata": {
  "kernelspec": {
   "display_name": "Python 3",
   "language": "python",
   "name": "python3"
  },
  "language_info": {
   "codemirror_mode": {
    "name": "ipython",
    "version": 3
   },
   "file_extension": ".py",
   "mimetype": "text/x-python",
   "name": "python",
   "nbconvert_exporter": "python",
   "pygments_lexer": "ipython3",
   "version": "3.7.6"
  }
 },
 "nbformat": 4,
 "nbformat_minor": 4
}
